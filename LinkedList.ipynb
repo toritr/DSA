{
 "cells": [
  {
   "cell_type": "code",
   "execution_count": 2,
   "id": "f6956319",
   "metadata": {},
   "outputs": [
    {
     "name": "stdout",
     "output_type": "stream",
     "text": [
      "A\n",
      "B\n",
      "D\n",
      "C\n"
     ]
    }
   ],
   "source": [
    "class Node:\n",
    "  def __init__(self, data):\n",
    "    self.data = data\n",
    "    self.next = None\n",
    "\n",
    "class LinkedList:\n",
    "  def __init__(self):\n",
    "    self.head = None\n",
    "  \n",
    "  def print_list(self):\n",
    "    cur_node = self.head\n",
    "    while cur_node:\n",
    "      print(cur_node.data)\n",
    "      cur_node = cur_node.next\n",
    "\n",
    "  def append(self, data):\n",
    "    new_node = Node(data)\n",
    "    if self.head is None:\n",
    "      self.head = new_node\n",
    "      return\n",
    "    last_node = self.head\n",
    "    while last_node.next:\n",
    "      last_node = last_node.next\n",
    "    last_node.next = new_node\n",
    "\n",
    "  def prepend(self, data):\n",
    "    new_node = Node(data)\n",
    "\n",
    "    new_node.next = self.head\n",
    "    self.head = new_node\n",
    "  \n",
    "  def insert_after_node(self, prev_node, data):\n",
    "    if not prev_node:\n",
    "      print(\"Previous node does not exist.\")\n",
    "      return\n",
    "    new_node = Node(data)\n",
    "\n",
    "    new_node.next = prev_node.next\n",
    "    prev_node.next = new_node\n",
    "\n",
    "  \n",
    "  \n",
    "llist = LinkedList()\n",
    "llist.append(\"A\")\n",
    "llist.append(\"B\")\n",
    "llist.append(\"C\")\n",
    "\n",
    "\n",
    "llist.insert_after_node(llist.head.next, \"D\")\n",
    "\n",
    "llist.print_list()  "
   ]
  },
  {
   "cell_type": "code",
   "execution_count": null,
   "id": "50530b2d",
   "metadata": {},
   "outputs": [],
   "source": []
  }
 ],
 "metadata": {
  "kernelspec": {
   "display_name": "Python 3 (ipykernel)",
   "language": "python",
   "name": "python3"
  },
  "language_info": {
   "codemirror_mode": {
    "name": "ipython",
    "version": 3
   },
   "file_extension": ".py",
   "mimetype": "text/x-python",
   "name": "python",
   "nbconvert_exporter": "python",
   "pygments_lexer": "ipython3",
   "version": "3.11.5"
  }
 },
 "nbformat": 4,
 "nbformat_minor": 5
}
