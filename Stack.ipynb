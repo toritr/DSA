{
 "cells": [
  {
   "cell_type": "markdown",
   "id": "e1e11ade",
   "metadata": {},
   "source": [
    "Stack Data Structure"
   ]
  },
  {
   "cell_type": "code",
   "execution_count": 5,
   "id": "f74f8c0c-a67d-4215-8cc2-49d4f2b69292",
   "metadata": {
    "tags": []
   },
   "outputs": [
    {
     "name": "stdout",
     "output_type": "stream",
     "text": [
      "True\n",
      "H\n"
     ]
    }
   ],
   "source": [
    "class Stack():\n",
    "    def __init__(self):\n",
    "        self.items=[]\n",
    "    def push(self,item):\n",
    "        self.items.append(item)\n",
    "    def pop(self):\n",
    "        return self.items.pop()\n",
    "    def is_empty(self):\n",
    "        return self.items==[]\n",
    "    def peek(self):\n",
    "        if not self.is_empty():\n",
    "            return self.items[-1]\n",
    "    def get_stack(self):\n",
    "        return self.items\n",
    "        \n",
    "ms=Stack()\n",
    "print(ms.is_empty())\n",
    "\n",
    "ms.push(\"B\")\n",
    "ms.push(\"H\")\n",
    "ms.push(\"A\")\n",
    "ms.pop()\n",
    "print(ms.peek())\n",
    "\n",
    "        "
   ]
  },
  {
   "cell_type": "code",
   "execution_count": 8,
   "id": "29efaa37-df95-485e-853c-56607f7279b4",
   "metadata": {},
   "outputs": [
    {
     "name": "stdout",
     "output_type": "stream",
     "text": [
      "String : (((({})))) Balanced or not?\n",
      "True\n",
      "String : [][]]] Balanced or not?\n",
      "False\n",
      "String : [][] Balanced or not?\n",
      "True\n"
     ]
    }
   ],
   "source": [
    "\"\"\"\n",
    "Stack Data Structure.\n",
    "\"\"\"\n",
    "class Stack():\n",
    "    def __init__(self):\n",
    "        self.items = []\n",
    "\n",
    "    def push(self, item):\n",
    "        self.items.append(item)\n",
    "\n",
    "    def pop(self):\n",
    "        return self.items.pop()\n",
    "    \n",
    "    def is_empty(self):\n",
    "        return self.items == []\n",
    "    \n",
    "    def peek(self):\n",
    "        if not self.is_empty():\n",
    "            return self.items[-1]\n",
    "        \n",
    "    def get_stack(self):\n",
    "        return self.items\n",
    "\n",
    "def is_match(p1, p2):\n",
    "    if p1 == \"(\" and p2 == \")\":\n",
    "        return True\n",
    "    elif p1 == \"{\" and p2 == \"}\":\n",
    "        return True\n",
    "    elif p1 == \"[\" and p2 == \"]\":\n",
    "        return True\n",
    "    else:\n",
    "        return False\n",
    "\n",
    "\n",
    "def is_paren_balanced(paren_string):\n",
    "    s = Stack()\n",
    "    is_balanced = True\n",
    "    index = 0\n",
    "\n",
    "    while index < len(paren_string) and is_balanced:\n",
    "        paren = paren_string[index]\n",
    "        if paren in \"([{\":\n",
    "            s.push(paren)\n",
    "        else:\n",
    "            if s.is_empty():\n",
    "                is_balanced = False\n",
    "                break\n",
    "            else:\n",
    "                top = s.pop()\n",
    "                if not is_match(top, paren):\n",
    "                    is_balanced = False\n",
    "                    break\n",
    "        index += 1\n",
    "\n",
    "    if s.is_empty() and is_balanced:\n",
    "        return True\n",
    "    else:\n",
    "        return False\n",
    "\n",
    "print(\"String : (((({})))) Balanced or not?\")\n",
    "print(is_paren_balanced(\"(((({}))))\"))\n",
    "\n",
    "print(\"String : [][]]] Balanced or not?\")\n",
    "print(is_paren_balanced(\"[][]]]\"))\n",
    "\n",
    "print(\"String : [][] Balanced or not?\")\n",
    "print(is_paren_balanced(\"[][]\"))"
   ]
  },
  {
   "cell_type": "code",
   "execution_count": 9,
   "id": "bb1b4c12",
   "metadata": {},
   "outputs": [
    {
     "name": "stdout",
     "output_type": "stream",
     "text": [
      "Welcome to Educative!\n"
     ]
    }
   ],
   "source": [
    "#reversed string using stack\n",
    "\n",
    "class Stack():\n",
    "    def __init__(self):\n",
    "        self.items = []\n",
    "\n",
    "    def push(self, item):\n",
    "        self.items.append(item)\t\t\t\t\n",
    "\n",
    "    def pop(self):\n",
    "        return self.items.pop()\n",
    "    \n",
    "    def is_empty(self):\n",
    "        return self.items == []\n",
    "    \n",
    "    def peek(self):\n",
    "        if not self.is_empty():\n",
    "            return self.items[-1]\n",
    "        \n",
    "    def get_stack(self):\n",
    "        return self.items\n",
    "\n",
    "def reverse_string(stack, input_str):\n",
    "  for i in range(len(input_str)):\n",
    "    stack.push(input_str[i])\n",
    "  rev_str = \"\"\n",
    "  while not stack.is_empty():\n",
    "    rev_str += stack.pop()\n",
    "\n",
    "  return rev_str\n",
    "\n",
    "stack = Stack()\n",
    "input_str = \"!evitacudE ot emocleW\"\n",
    "print(reverse_string(stack, input_str))"
   ]
  },
  {
   "cell_type": "code",
   "execution_count": null,
   "id": "ea48ad93",
   "metadata": {},
   "outputs": [],
   "source": []
  }
 ],
 "metadata": {
  "kernelspec": {
   "display_name": "Python 3 (ipykernel)",
   "language": "python",
   "name": "python3"
  },
  "language_info": {
   "codemirror_mode": {
    "name": "ipython",
    "version": 3
   },
   "file_extension": ".py",
   "mimetype": "text/x-python",
   "name": "python",
   "nbconvert_exporter": "python",
   "pygments_lexer": "ipython3",
   "version": "3.11.5"
  }
 },
 "nbformat": 4,
 "nbformat_minor": 5
}
